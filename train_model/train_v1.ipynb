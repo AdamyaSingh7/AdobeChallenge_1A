{
 "cells": [
  {
   "cell_type": "code",
   "execution_count": null,
   "id": "1a7ee1b0",
   "metadata": {},
   "outputs": [],
   "source": [
    "## Step 1: Define Features\n",
    "\n",
    "import pandas as pd\n",
    "from sklearn.model_selection import train_test_split\n",
    "\n",
    "# 1) Load your CSV\n",
    "df = pd.read_csv(\"output_dataset.csv\")\n",
    "\n",
    "# 2) Feature engineering\n",
    "df[\"text_length\"] = df[\"text\"].astype(str).str.len()\n",
    "df[\"starts_with_number\"] = df[\"text\"].str.match(r\"^\\d\").astype(int)\n",
    "df[\"ends_with_colon\"]    = df[\"text\"].str.endswith(\":\").astype(int)\n",
    "df[\"title_case\"]         = df[\"text\"].str.istitle().astype(int)\n",
    "df[\"uppercase_ratio\"]    = df[\"text\"].apply(lambda t: sum(1 for c in t if c.isupper())/max(len(t),1))\n",
    "\n",
    "# 3) Define feature sets\n",
    "numeric_feats = [\"font_size\", \"x0\", \"y0\", \"text_length\", \"uppercase_ratio\"]\n",
    "binary_feats  = [\"is_bold\", \"is_italic\", \"starts_with_number\", \"ends_with_colon\", \"title_case\"]\n",
    "features      = numeric_feats + binary_feats\n"
   ]
  },
  {
   "cell_type": "code",
   "execution_count": null,
   "id": "8ad5fdb5",
   "metadata": {},
   "outputs": [
    {
     "name": "stdout",
     "output_type": "stream",
     "text": [
      "Shapes — heading detector: (809, 10) (203, 10)\n",
      "Shapes — level classifier: (361, 10) (91, 10)\n"
     ]
    }
   ],
   "source": [
    "## Step 2: Split Data\n",
    "\n",
    "# 4) Prepare data for the two tasks\n",
    "\n",
    "# — Task A: heading vs non-heading\n",
    "X_bin = df[features]\n",
    "y_bin = df[\"is_heading\"]\n",
    "\n",
    "# — Task B: heading-level classification (only on true headings)\n",
    "headings = df[df[\"is_heading\"] == 1]\n",
    "X_lvl = headings[features]\n",
    "y_lvl = headings[\"heading_level\"]\n",
    "\n",
    "# 5) Split into train/test\n",
    "Xb_train, Xb_test, yb_train, yb_test = train_test_split(X_bin, y_bin, test_size=0.2, random_state=42)\n",
    "Xl_train, Xl_test, yl_train, yl_test = train_test_split(X_lvl, y_lvl, test_size=0.2, random_state=42)\n",
    "\n",
    "print(\"Shapes — heading detector:\", Xb_train.shape, Xb_test.shape)\n",
    "print(\"Shapes — level classifier:\", Xl_train.shape, Xl_test.shape)\n"
   ]
  },
  {
   "cell_type": "code",
   "execution_count": null,
   "id": "44735439",
   "metadata": {},
   "outputs": [
    {
     "name": "stdout",
     "output_type": "stream",
     "text": [
      "              precision    recall  f1-score   support\n",
      "\n",
      "           0       0.83      0.86      0.84       100\n",
      "           1       0.86      0.83      0.84       103\n",
      "\n",
      "    accuracy                           0.84       203\n",
      "   macro avg       0.84      0.84      0.84       203\n",
      "weighted avg       0.84      0.84      0.84       203\n",
      "\n",
      "              precision    recall  f1-score   support\n",
      "\n",
      "          H1       0.75      0.50      0.60        12\n",
      "          H2       0.82      0.95      0.88        39\n",
      "          H3       0.89      0.87      0.88        39\n",
      "          H4       0.00      0.00      0.00         1\n",
      "\n",
      "    accuracy                           0.85        91\n",
      "   macro avg       0.62      0.58      0.59        91\n",
      "weighted avg       0.83      0.85      0.84        91\n",
      "\n"
     ]
    },
    {
     "name": "stderr",
     "output_type": "stream",
     "text": [
      "c:\\Users\\adamy\\PycharmProjects\\PythonProject\\adobe_1a_outline_extractor\\venv\\Lib\\site-packages\\sklearn\\metrics\\_classification.py:1706: UndefinedMetricWarning: Precision is ill-defined and being set to 0.0 in labels with no predicted samples. Use `zero_division` parameter to control this behavior.\n",
      "  _warn_prf(average, modifier, f\"{metric.capitalize()} is\", result.shape[0])\n",
      "c:\\Users\\adamy\\PycharmProjects\\PythonProject\\adobe_1a_outline_extractor\\venv\\Lib\\site-packages\\sklearn\\metrics\\_classification.py:1706: UndefinedMetricWarning: Precision is ill-defined and being set to 0.0 in labels with no predicted samples. Use `zero_division` parameter to control this behavior.\n",
      "  _warn_prf(average, modifier, f\"{metric.capitalize()} is\", result.shape[0])\n",
      "c:\\Users\\adamy\\PycharmProjects\\PythonProject\\adobe_1a_outline_extractor\\venv\\Lib\\site-packages\\sklearn\\metrics\\_classification.py:1706: UndefinedMetricWarning: Precision is ill-defined and being set to 0.0 in labels with no predicted samples. Use `zero_division` parameter to control this behavior.\n",
      "  _warn_prf(average, modifier, f\"{metric.capitalize()} is\", result.shape[0])\n"
     ]
    },
    {
     "data": {
      "text/plain": [
       "['level_classifier.joblib']"
      ]
     },
     "execution_count": 6,
     "metadata": {},
     "output_type": "execute_result"
    }
   ],
   "source": [
    "## Step 3: Build a scikit-learn Pipeline\n",
    "\n",
    "from sklearn.pipeline import Pipeline\n",
    "from sklearn.compose import ColumnTransformer\n",
    "from sklearn.preprocessing import StandardScaler\n",
    "from sklearn.ensemble import RandomForestClassifier\n",
    "from sklearn.metrics import classification_report\n",
    "import joblib\n",
    "\n",
    "# Preprocessor\n",
    "preprocessor = ColumnTransformer([\n",
    "    (\"num\", StandardScaler(), numeric_feats),\n",
    "    (\"bin\", \"passthrough\",  binary_feats),\n",
    "])\n",
    "\n",
    "# Heading detector\n",
    "heading_clf = Pipeline([\n",
    "    (\"prep\", preprocessor),\n",
    "    (\"rf\",   RandomForestClassifier(n_estimators=100, max_depth=8, random_state=42)),\n",
    "])\n",
    "heading_clf.fit(Xb_train, yb_train)\n",
    "print(classification_report(yb_test, heading_clf.predict(Xb_test)))\n",
    "\n",
    "# Level classifier\n",
    "level_clf = Pipeline([\n",
    "    (\"prep\", preprocessor),\n",
    "    (\"rf\",   RandomForestClassifier(n_estimators=50, max_depth=5, random_state=42)),\n",
    "])\n",
    "level_clf.fit(Xl_train, yl_train)\n",
    "print(classification_report(yl_test, level_clf.predict(Xl_test)))\n",
    "\n",
    "# Save\n",
    "joblib.dump(heading_clf, \"heading_detector.joblib\", compress=3)\n",
    "joblib.dump(level_clf,   \"level_classifier.joblib\",   compress=3)\n"
   ]
  },
  {
   "cell_type": "code",
   "execution_count": 10,
   "id": "a414c7b9",
   "metadata": {},
   "outputs": [
    {
     "data": {
      "text/plain": [
       "['C:/Users/adamy/PycharmProjects/PythonProject/adobe_1a_outline_extractor/models/heading_classifier.pkl']"
      ]
     },
     "execution_count": 10,
     "metadata": {},
     "output_type": "execute_result"
    }
   ],
   "source": [
    "import joblib\n",
    "\n",
    "joblib.dump(\n",
    "    heading_clf,\n",
    "    r\"C:/Users/adamy/PycharmProjects/PythonProject/adobe_1a_outline_extractor/models/heading_classifier.pkl\",\n",
    "    compress=3\n",
    ")\n"
   ]
  },
  {
   "cell_type": "code",
   "execution_count": 11,
   "id": "a4b798e2",
   "metadata": {},
   "outputs": [
    {
     "name": "stdout",
     "output_type": "stream",
     "text": [
      "✅ Level classifier saved.\n"
     ]
    }
   ],
   "source": [
    "import joblib\n",
    "\n",
    "joblib.dump(\n",
    "    level_clf,\n",
    "    r\"C:/Users/adamy/PycharmProjects/PythonProject/adobe_1a_outline_extractor/models/level_classifier.pkl\",\n",
    "    compress=3\n",
    ")\n",
    "print(\"✅ Level classifier saved.\")\n"
   ]
  },
  {
   "cell_type": "code",
   "execution_count": null,
   "id": "a6cbe872",
   "metadata": {},
   "outputs": [],
   "source": []
  }
 ],
 "metadata": {
  "kernelspec": {
   "display_name": "venv",
   "language": "python",
   "name": "python3"
  },
  "language_info": {
   "codemirror_mode": {
    "name": "ipython",
    "version": 3
   },
   "file_extension": ".py",
   "mimetype": "text/x-python",
   "name": "python",
   "nbconvert_exporter": "python",
   "pygments_lexer": "ipython3",
   "version": "3.12.9"
  }
 },
 "nbformat": 4,
 "nbformat_minor": 5
}
